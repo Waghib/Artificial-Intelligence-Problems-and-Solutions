{
 "cells": [
  {
   "cell_type": "markdown",
   "metadata": {},
   "source": [
    "# TASK : 1"
   ]
  },
  {
   "cell_type": "code",
   "execution_count": 7,
   "metadata": {},
   "outputs": [
    {
     "name": "stdout",
     "output_type": "stream",
     "text": [
      "a) TABLE 1\n",
      "\n",
      "P\tQ\tR\t¬R\tQ∨¬R\t¬P\t¬P∧(Q∨¬R)\n",
      "True\tTrue\tTrue\tFalse\tTrue\tFalse\tFalse\n",
      "True\tTrue\tFalse\tTrue\tTrue\tFalse\tFalse\n",
      "True\tFalse\tTrue\tFalse\tFalse\tFalse\tFalse\n",
      "True\tFalse\tFalse\tTrue\tTrue\tFalse\tFalse\n",
      "False\tTrue\tTrue\tFalse\tTrue\tTrue\tTrue\n",
      "False\tTrue\tFalse\tTrue\tTrue\tTrue\tTrue\n",
      "False\tFalse\tTrue\tFalse\tFalse\tTrue\tFalse\n",
      "False\tFalse\tFalse\tTrue\tTrue\tTrue\tTrue\n",
      "\n",
      "b) TABLE 2\n",
      "\n",
      "P\tQ\tp⇒q\t¬q\t¬p    (¬q⇒¬p)  (p⇒q) ⇔ (¬q ⇒ ¬p)\n",
      "True\tTrue\tTrue\tFalse\tFalse\tTrue\tTrue\n",
      "True\tFalse\tFalse\tTrue\tFalse\tFalse\tTrue\n",
      "False\tTrue\tTrue\tFalse\tTrue\tTrue\tTrue\n",
      "False\tFalse\tTrue\tTrue\tTrue\tTrue\tTrue\n"
     ]
    }
   ],
   "source": [
    "def not_operator(p):\n",
    "    \"\"\"Negation operator\"\"\"\n",
    "    return not p\n",
    "\n",
    "def and_operator(p, q):\n",
    "    \"\"\"Conjunction operator\"\"\"\n",
    "    return p and q\n",
    "\n",
    "def or_operator(p, q):\n",
    "    \"\"\"Disjunction operator\"\"\"\n",
    "    return p or q\n",
    "\n",
    "def implication_operator(p, q):\n",
    "    \"\"\"Implication operator\"\"\"\n",
    "    return (not p) or q\n",
    "\n",
    "def biconditional_operator(p, q):\n",
    "    \"\"\"Biconditional operator\"\"\"\n",
    "    return (p and q) or ((not p) and (not q))\n",
    "\n",
    "# Table 1\n",
    "def table_1():\n",
    "    \"\"\"Generate truth table for Table 1\"\"\"\n",
    "    print(\"P\\tQ\\tR\\t¬R\\tQ∨¬R\\t¬P\\t¬P∧(Q∨¬R)\")\n",
    "    # Iterate over all possible truth values for P, Q, and R\n",
    "    for p in [True, False]:\n",
    "        for q in [True, False]:\n",
    "            for r in [True, False]:\n",
    "                # Evaluate logical operators for each combination of truth values\n",
    "                not_r = not_operator(r)\n",
    "                q_or_not_r = or_operator(q, not_r)\n",
    "                not_p = not_operator(p)\n",
    "                not_p_and_q_or_not_r = and_operator(not_p, q_or_not_r)\n",
    "                # Print the row of the truth table\n",
    "                print(f\"{p}\\t{q}\\t{r}\\t{not_r}\\t{q_or_not_r}\\t{not_p}\\t{not_p_and_q_or_not_r}\")\n",
    "\n",
    "# Table 2\n",
    "def table_2():\n",
    "    \"\"\"Generate truth table for Table 2\"\"\"\n",
    "    print(\"P\\tQ\\tp⇒q\\t¬q\\t¬p    (¬q⇒¬p)  (p⇒q) ⇔ (¬q ⇒ ¬p)\")\n",
    "    # Iterate over all possible truth values for P and Q\n",
    "    for p in [True, False]:\n",
    "        for q in [True, False]:\n",
    "            # Evaluate logical operators for each combination of truth values\n",
    "            p_implies_q = implication_operator(p, q)\n",
    "            not_q = not_operator(q)\n",
    "            not_p = not_operator(p) \n",
    "            not_q_implies_not_p = implication_operator(not_q, not_p)\n",
    "            p_implies_q_iff_not_q_implies_not_p = biconditional_operator(p_implies_q, not_q_implies_not_p)\n",
    "            # Print the row of the truth table\n",
    "            print(f\"{p}\\t{q}\\t{p_implies_q}\\t{not_q}\\t{not_p}\\t{not_q_implies_not_p}\\t{p_implies_q_iff_not_q_implies_not_p}\")\n",
    "\n",
    "\n",
    "print(\"a) TABLE 1\\n\")\n",
    "table_1()\n",
    "\n",
    "\n",
    "print(\"\\nb) TABLE 2\\n\")\n",
    "table_2()"
   ]
  },
  {
   "cell_type": "markdown",
   "metadata": {},
   "source": [
    "# TASK: 2 "
   ]
  },
  {
   "cell_type": "markdown",
   "metadata": {},
   "source": [
    "## Example 1:\n",
    "\n",
    "#### Statement 1: “The grass was wet this morning, and it didn’t rain last night” ➔ q ∧¬p\n",
    "#### Statement 2: “it didn’t rain last night”➔ ¬p\n",
    "#### Conclusion: Which infers that “The grass was not wet this morning”\n",
    "#### This is an application of the Modus Tollens rule of inference. If we have a statement of the form “If P then Q” and we know that “Not Q” is true, then we can infer that “Not P” is true.\n",
    "\n",
    "## Example 2:\n",
    "\n",
    "#### Statement 1: “If I am sleepy then I go to bed” ➔ P→ Q\n",
    "#### Statement 2: \"I do not go to the bed.\"➔ ¬Q\n",
    "#### Conclusion: Which infers that “I am not sleepy” ➔ ¬P\n",
    "#### This is also an application of the Modus Tollens rule of inference. If we have a statement of the form “If P then Q” and we know that “Not Q” is true, then we can infer that “Not P” is true.\n",
    "\n",
    "## Example 3:\n",
    "\n",
    "#### Statement 1: I have a vanilla ice-cream. ➔ P\n",
    "#### Statement 2: I have Chocolate ice-cream. ➔ Q.\n",
    "#### Conclusion: Which infers that “I have vanilla or chocolate ice-cream” ➔ P ∨ Q\n",
    "#### This is an application of the Disjunction rule of inference. If we have two statements P and Q, we can infer that “P or Q” is #### true. This is true regardless of whether P and Q are true or false individually. As long as at least one of them is true, the disjunction “P or Q” is true. In this case, having either vanilla or chocolate ice cream (or both) satisfies the conclusion."
   ]
  },
  {
   "cell_type": "markdown",
   "metadata": {},
   "source": [
    "# TASK: 3"
   ]
  },
  {
   "cell_type": "code",
   "execution_count": 17,
   "metadata": {},
   "outputs": [
    {
     "name": "stdout",
     "output_type": "stream",
     "text": [
      "The value of a is: 100\n"
     ]
    }
   ],
   "source": [
    "from kanren import var, eq, run, conde\n",
    "\n",
    "a = var()\n",
    "b = var()\n",
    "\n",
    "goal = conde([eq(a, b), eq(b, 100)])  # Using conde to combine conditions\n",
    "result = run(1, a, goal)\n",
    "print(\"The value of a is:\", result[0])\n"
   ]
  },
  {
   "cell_type": "code",
   "execution_count": 18,
   "metadata": {},
   "outputs": [
    {
     "name": "stdout",
     "output_type": "stream",
     "text": [
      "a. Father of Usman: Fakhir\n",
      "b. Children of Fakhir: ('Rehan', 'Usman')\n",
      "c. Grandfather of Usman: Noman\n",
      "d. Grandfather of Fakhir: Suleman\n"
     ]
    }
   ],
   "source": [
    "from kanren import Relation, facts, run, var\n",
    "\n",
    "parent = Relation()  # Create a 'parent' relation\n",
    "\n",
    "# Establish facts about the parent relationship\n",
    "facts(parent, (\"Fakhir\", \"Usman\"), \n",
    "              (\"Fakhir\", \"Rehan\"), \n",
    "              (\"Noman\", \"Fakhir\"), \n",
    "              (\"Suleman\", \"Noman\"))\n",
    "\n",
    "father_var = var() \n",
    "\n",
    "result = run(1, father_var, parent(father_var, \"Usman\"))\n",
    "print(\"a. Father of Usman:\", result[0])\n",
    "\n",
    "results = run(0, father_var, parent(\"Fakhir\", father_var)) \n",
    "print(\"b. Children of Fakhir:\", results)  \n",
    "\n",
    "result = run(1, father_var, parent(father_var, \"Fakhir\"), parent(\"Fakhir\", \"Usman\"))\n",
    "print(\"c. Grandfather of Usman:\", result[0])\n",
    "\n",
    "result = run(1, father_var, parent(father_var, \"Noman\"), parent(\"Noman\", \"Fakhir\")) \n",
    "print(\"d. Grandfather of Fakhir:\", result[0])"
   ]
  },
  {
   "cell_type": "markdown",
   "metadata": {},
   "source": [
    "# TASK: 4"
   ]
  },
  {
   "cell_type": "code",
   "execution_count": 1,
   "metadata": {},
   "outputs": [
    {
     "ename": "ModuleNotFoundError",
     "evalue": "No module named 'logic'",
     "output_type": "error",
     "traceback": [
      "\u001b[1;31m---------------------------------------------------------------------------\u001b[0m",
      "\u001b[1;31mModuleNotFoundError\u001b[0m                       Traceback (most recent call last)",
      "Cell \u001b[1;32mIn[1], line 1\u001b[0m\n\u001b[1;32m----> 1\u001b[0m \u001b[38;5;28;01mfrom\u001b[39;00m \u001b[38;5;21;01mlogic\u001b[39;00m \u001b[38;5;28;01mimport\u001b[39;00m \u001b[38;5;241m*\u001b[39m\n\u001b[0;32m      3\u001b[0m \u001b[38;5;66;03m# Predicates\u001b[39;00m\n\u001b[0;32m      4\u001b[0m Pit \u001b[38;5;241m=\u001b[39m Symbol(\u001b[38;5;124m'\u001b[39m\u001b[38;5;124mPit\u001b[39m\u001b[38;5;124m'\u001b[39m)\n",
      "\u001b[1;31mModuleNotFoundError\u001b[0m: No module named 'logic'"
     ]
    }
   ],
   "source": [
    "from logic import *\n",
    "\n",
    "# Predicates\n",
    "Pit = Symbol('Pit')\n",
    "Monster = Symbol('Monster')\n",
    "Breeze = Symbol('Breeze')\n",
    "Stench = Symbol('Stench')\n",
    "\n",
    "# Define facts (True statements about the world)\n",
    "facts = [\n",
    "    # There is a pit at (1,1)\n",
    "    Fact(Pit(1, 1)),\n",
    "    # There is a monster at (2,2)\n",
    "    Fact(Monster(2, 2)),\n",
    "    # If there is a pit at (1,2), there will be a breeze in adjacent cells\n",
    "    Implication(Pit(1, 2), Or(Breeze(1, 1), Breeze(2, 2))),\n",
    "    # If there is a monster at (2,2), there will be a stench in adjacent cells\n",
    "    Implication(Monster(2, 2), Or(Stench(1, 2), Stench(2, 1), Stench(3, 2), Stench(2, 3)))\n",
    "]\n",
    "\n",
    "# Add facts to the knowledge base\n",
    "for fact in facts:\n",
    "    kb_assert(fact)\n",
    "\n",
    "def query(statement):\n",
    "    \"\"\" Use resolution to determine if a statement is true, false, or unknown \"\"\"\n",
    "    result = resolution_prove(statement)\n",
    "    if result is True:\n",
    "        return \"Definitely True\"\n",
    "    elif result is False:\n",
    "        return \"Definitely False\"\n",
    "    else:\n",
    "        return \"Unknown\"\n",
    "\n",
    "# Example queries\n",
    "print(query(Breeze(1, 1)))  # Is there a breeze at (1,1)?\n",
    "print(query(Stench(3, 2)))  # Is there a stench at (3,2)?\n",
    "print(query(Pit(1, 2)))      # Is there a pit at (1,2)?\n",
    "print(query(Monster(1, 1)))  # Is there a monster at (1,1)?\n",
    "\n",
    "# Test queries\n",
    "print(query(Breeze(1, 1)))  # Should return \"Definitely False\"\n",
    "print(query(Stench(3, 2)))  # Should return \"Unknown\" (depends on other rules)\n",
    "print(query(Pit(1, 2)))      # Should return \"Definitely True\"\n",
    "print(query(Monster(1, 1)))  # Should return \"Unknown\" (no rule for (1,1))\n"
   ]
  },
  {
   "cell_type": "code",
   "execution_count": null,
   "metadata": {},
   "outputs": [],
   "source": []
  }
 ],
 "metadata": {
  "kernelspec": {
   "display_name": "base",
   "language": "python",
   "name": "python3"
  },
  "language_info": {
   "codemirror_mode": {
    "name": "ipython",
    "version": 3
   },
   "file_extension": ".py",
   "mimetype": "text/x-python",
   "name": "python",
   "nbconvert_exporter": "python",
   "pygments_lexer": "ipython3",
   "version": "3.12.2"
  },
  "orig_nbformat": 4
 },
 "nbformat": 4,
 "nbformat_minor": 2
}
