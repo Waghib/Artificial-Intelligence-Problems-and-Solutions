{
 "cells": [
  {
   "cell_type": "markdown",
   "metadata": {},
   "source": [
    "# TASK : 1"
   ]
  },
  {
   "cell_type": "code",
   "execution_count": 7,
   "metadata": {},
   "outputs": [
    {
     "name": "stdout",
     "output_type": "stream",
     "text": [
      "a) TABLE 1\n",
      "\n",
      "P\tQ\tR\t¬R\tQ∨¬R\t¬P\t¬P∧(Q∨¬R)\n",
      "True\tTrue\tTrue\tFalse\tTrue\tFalse\tFalse\n",
      "True\tTrue\tFalse\tTrue\tTrue\tFalse\tFalse\n",
      "True\tFalse\tTrue\tFalse\tFalse\tFalse\tFalse\n",
      "True\tFalse\tFalse\tTrue\tTrue\tFalse\tFalse\n",
      "False\tTrue\tTrue\tFalse\tTrue\tTrue\tTrue\n",
      "False\tTrue\tFalse\tTrue\tTrue\tTrue\tTrue\n",
      "False\tFalse\tTrue\tFalse\tFalse\tTrue\tFalse\n",
      "False\tFalse\tFalse\tTrue\tTrue\tTrue\tTrue\n",
      "\n",
      "b) TABLE 2\n",
      "\n",
      "P\tQ\tp⇒q\t¬q\t¬p    (¬q⇒¬p)  (p⇒q) ⇔ (¬q ⇒ ¬p)\n",
      "True\tTrue\tTrue\tFalse\tFalse\tTrue\tTrue\n",
      "True\tFalse\tFalse\tTrue\tFalse\tFalse\tTrue\n",
      "False\tTrue\tTrue\tFalse\tTrue\tTrue\tTrue\n",
      "False\tFalse\tTrue\tTrue\tTrue\tTrue\tTrue\n"
     ]
    }
   ],
   "source": [
    "def not_operator(p):\n",
    "    \"\"\"Negation operator\"\"\"\n",
    "    return not p\n",
    "\n",
    "def and_operator(p, q):\n",
    "    \"\"\"Conjunction operator\"\"\"\n",
    "    return p and q\n",
    "\n",
    "def or_operator(p, q):\n",
    "    \"\"\"Disjunction operator\"\"\"\n",
    "    return p or q\n",
    "\n",
    "def implication_operator(p, q):\n",
    "    \"\"\"Implication operator\"\"\"\n",
    "    return (not p) or q\n",
    "\n",
    "def biconditional_operator(p, q):\n",
    "    \"\"\"Biconditional operator\"\"\"\n",
    "    return (p and q) or ((not p) and (not q))\n",
    "\n",
    "# Table 1\n",
    "def table_1():\n",
    "    \"\"\"Generate truth table for Table 1\"\"\"\n",
    "    print(\"P\\tQ\\tR\\t¬R\\tQ∨¬R\\t¬P\\t¬P∧(Q∨¬R)\")\n",
    "    # Iterate over all possible truth values for P, Q, and R\n",
    "    for p in [True, False]:\n",
    "        for q in [True, False]:\n",
    "            for r in [True, False]:\n",
    "                # Evaluate logical operators for each combination of truth values\n",
    "                not_r = not_operator(r)\n",
    "                q_or_not_r = or_operator(q, not_r)\n",
    "                not_p = not_operator(p)\n",
    "                not_p_and_q_or_not_r = and_operator(not_p, q_or_not_r)\n",
    "                # Print the row of the truth table\n",
    "                print(f\"{p}\\t{q}\\t{r}\\t{not_r}\\t{q_or_not_r}\\t{not_p}\\t{not_p_and_q_or_not_r}\")\n",
    "\n",
    "# Table 2\n",
    "def table_2():\n",
    "    \"\"\"Generate truth table for Table 2\"\"\"\n",
    "    print(\"P\\tQ\\tp⇒q\\t¬q\\t¬p    (¬q⇒¬p)  (p⇒q) ⇔ (¬q ⇒ ¬p)\")\n",
    "    # Iterate over all possible truth values for P and Q\n",
    "    for p in [True, False]:\n",
    "        for q in [True, False]:\n",
    "            # Evaluate logical operators for each combination of truth values\n",
    "            p_implies_q = implication_operator(p, q)\n",
    "            not_q = not_operator(q)\n",
    "            not_p = not_operator(p) \n",
    "            not_q_implies_not_p = implication_operator(not_q, not_p)\n",
    "            p_implies_q_iff_not_q_implies_not_p = biconditional_operator(p_implies_q, not_q_implies_not_p)\n",
    "            # Print the row of the truth table\n",
    "            print(f\"{p}\\t{q}\\t{p_implies_q}\\t{not_q}\\t{not_p}\\t{not_q_implies_not_p}\\t{p_implies_q_iff_not_q_implies_not_p}\")\n",
    "\n",
    "\n",
    "print(\"a) TABLE 1\\n\")\n",
    "table_1()\n",
    "\n",
    "\n",
    "print(\"\\nb) TABLE 2\\n\")\n",
    "table_2()"
   ]
  },
  {
   "cell_type": "markdown",
   "metadata": {},
   "source": [
    "# TASK: 2 "
   ]
  },
  {
   "cell_type": "markdown",
   "metadata": {},
   "source": [
    "Example 1:"
   ]
  },
  {
   "cell_type": "code",
   "execution_count": 1,
   "metadata": {},
   "outputs": [
    {
     "name": "stdout",
     "output_type": "stream",
     "text": [
      "Truth Table:\n",
      "p \t q \t ¬p \t q ^ -p    ¬q\n",
      "True \t True \t False \t False \t False\n",
      "True \t False \t False \t False \t True\n",
      "False \t True \t True \t True \t False\n",
      "False \t False \t True \t False \t True\n"
     ]
    }
   ],
   "source": [
    "def conjunction(p, q):\n",
    "    return p and q\n",
    "\n",
    "def negation(p):\n",
    "    return not p\n",
    "\n",
    "print(\"Truth Table:\")\n",
    "print(\"p \\t q \\t ¬p \\t q ^ -p    ¬q\")\n",
    "values = [True, False]\n",
    "for p in values:\n",
    "    for q in values:\n",
    "        result_negation_p = negation(p)\n",
    "        result_conjunction_q_negation_p = conjunction(q, result_negation_p)\n",
    "        result_negation_q = negation(q)\n",
    "        print(f\"{p} \\t {q} \\t {result_negation_p} \\t {result_conjunction_q_negation_p} \\t {result_negation_q}\")\n"
   ]
  },
  {
   "cell_type": "markdown",
   "metadata": {},
   "source": [
    "Example 2:"
   ]
  },
  {
   "cell_type": "code",
   "execution_count": 2,
   "metadata": {},
   "outputs": [
    {
     "name": "stdout",
     "output_type": "stream",
     "text": [
      "Truth Table:\n",
      "p \t q \t p => q  ¬q       ¬p\n",
      "True \t True \t True \t False \t False\n",
      "True \t False \t False \t True \t False\n",
      "False \t True \t True \t False \t True\n",
      "False \t False \t True \t True \t True\n"
     ]
    }
   ],
   "source": [
    "def implication(p, q):\n",
    "    return (not p or q)\n",
    "\n",
    "def negation(p):\n",
    "    return not p\n",
    "\n",
    "print(\"Truth Table:\")\n",
    "print(\"p \\t q \\t p => q  ¬q       ¬p\")\n",
    "values = [True, False]\n",
    "for p in values:\n",
    "    for q in values:\n",
    "        result_implication = implication(p, q)\n",
    "        result_negation_q = negation(q)\n",
    "        result_negation_p = negation(p)\n",
    "        print(f\"{p} \\t {q} \\t {result_implication} \\t {result_negation_q} \\t {result_negation_p}\")\n"
   ]
  },
  {
   "cell_type": "markdown",
   "metadata": {},
   "source": [
    "Example 3:"
   ]
  },
  {
   "cell_type": "code",
   "execution_count": 4,
   "metadata": {},
   "outputs": [
    {
     "name": "stdout",
     "output_type": "stream",
     "text": [
      "p \t q \t p v q\n",
      "True \t True \t True\n",
      "True \t False \t True\n",
      "False \t True \t True\n",
      "False \t False \t False\n"
     ]
    }
   ],
   "source": [
    "def disjunction(p, q):\n",
    "    return p or q\n",
    "\n",
    "print(\"p \\t q \\t p v q\")\n",
    "values = [True, False]\n",
    "for p in values:\n",
    "    for q in values:\n",
    "        result = disjunction(p, q)\n",
    "        print(p, \"\\t\", q, \"\\t\", result)"
   ]
  },
  {
   "cell_type": "markdown",
   "metadata": {},
   "source": [
    "# TASK: 3"
   ]
  },
  {
   "cell_type": "markdown",
   "metadata": {},
   "source": [
    "part(a)"
   ]
  },
  {
   "cell_type": "code",
   "execution_count": 5,
   "metadata": {},
   "outputs": [
    {
     "name": "stdout",
     "output_type": "stream",
     "text": [
      "The value of 'a' is: 100\n"
     ]
    }
   ],
   "source": [
    "def find_value():\n",
    "    b = 100\n",
    "    a = b\n",
    "    return a\n",
    "\n",
    "# Find the value of 'a'\n",
    "result = find_value()\n",
    "print(\"The value of 'a' is:\", result)\n"
   ]
  },
  {
   "cell_type": "markdown",
   "metadata": {},
   "source": [
    "part(b)"
   ]
  },
  {
   "cell_type": "code",
   "execution_count": 6,
   "metadata": {},
   "outputs": [
    {
     "name": "stdout",
     "output_type": "stream",
     "text": [
      "The father of Usman is: Fakhir\n",
      "Children of Fakhir are: ['Usman', 'Rehan']\n",
      "The grandfather of Usman is: Noman\n",
      "The grandfather of Fakhir is: Suleman\n"
     ]
    }
   ],
   "source": [
    "\n",
    "family = {\n",
    "    \"Fakhir\": [\"Usman\", \"Rehan\"],\n",
    "    \"Suleman\": [\"Noman\"],\n",
    "    \"Noman\": [\"Fakhir\"]\n",
    "}\n",
    "\n",
    "# a. Who is the father of Usman?\n",
    "def father_of(person):\n",
    "    for father, children in family.items():\n",
    "        if person in children:\n",
    "            return father\n",
    "    return None\n",
    "\n",
    "print(\"The father of Usman is:\", father_of(\"Usman\"))\n",
    "\n",
    "# b. Children of Umer?\n",
    "print(\"Children of Fakhir are:\", family.get(\"Fakhir\", []))\n",
    "\n",
    "# c. Who is the grandfather of Usman?\n",
    "father_of_usman = father_of(\"Usman\")\n",
    "grandfather_of_usman = father_of(father_of_usman)\n",
    "print(\"The grandfather of Usman is:\", grandfather_of_usman)\n",
    "\n",
    "# d. Who is the grandfather of Umer?\n",
    "father_of_umer = father_of(\"Fakhir\")\n",
    "grandfather_of_umer = father_of(father_of_umer)\n",
    "print(\"The grandfather of Fakhir is:\", grandfather_of_umer)\n"
   ]
  },
  {
   "cell_type": "markdown",
   "metadata": {},
   "source": [
    "# TASK: 4"
   ]
  },
  {
   "cell_type": "code",
   "execution_count": 7,
   "metadata": {},
   "outputs": [
    {
     "name": "stdout",
     "output_type": "stream",
     "text": [
      "Is there a pit in cell (1, 2)? False\n",
      "Is there a monster in cell (2, 2)? True\n",
      "Is there breeze in cell (1, 1)? False\n",
      "Is there stench in cell (1, 1)? False\n",
      "Is there gold in cell (4, 4)? True\n"
     ]
    }
   ],
   "source": [
    "# Define the size of the grid\n",
    "GRID_SIZE = 4\n",
    "\n",
    "# Define the positions of pits, monsters, and gold\n",
    "pits = [(1, 3), (3, 3)]  # Example pit locations\n",
    "monsters = [(2, 2)]      # Example monster locations\n",
    "gold = (4, 4)            # Example gold location\n",
    "\n",
    "# Function to check if a cell is adjacent to a pit\n",
    "def is_adjacent_to_pit(x, y):\n",
    "    for pit_x, pit_y in pits:\n",
    "        if abs(x - pit_x) + abs(y - pit_y) == 1:\n",
    "            return True\n",
    "    return False\n",
    "\n",
    "# Function to check if a cell is adjacent to a monster\n",
    "def is_adjacent_to_monster(x, y):\n",
    "    for monster_x, monster_y in monsters:\n",
    "        if abs(x - monster_x) + abs(y - monster_y) == 1:\n",
    "            return True\n",
    "    return False\n",
    "\n",
    "# Function to check if a cell has breeze\n",
    "def has_breeze(x, y):\n",
    "    for pit_x, pit_y in pits:\n",
    "        if abs(x - pit_x) + abs(y - pit_y) == 1:\n",
    "            return True\n",
    "    return False\n",
    "\n",
    "# Function to check if a cell has stench\n",
    "def has_stench(x, y):\n",
    "    for monster_x, monster_y in monsters:\n",
    "        if abs(x - monster_x) + abs(y - monster_y) == 1:\n",
    "            return True\n",
    "    return False\n",
    "\n",
    "# Function to infer if a cell has gold\n",
    "def has_gold(x, y):\n",
    "    return (x, y) == gold\n",
    "\n",
    "# Example statements to infer\n",
    "# Is there a pit in cell (1, 2)?\n",
    "print(\"Is there a pit in cell (1, 2)?\", (1, 2) in pits)\n",
    "\n",
    "# Is there a monster in cell (2, 2)?\n",
    "print(\"Is there a monster in cell (2, 2)?\", (2, 2) in monsters)\n",
    "\n",
    "# Is there breeze in cell (1, 1)?\n",
    "print(\"Is there breeze in cell (1, 1)?\", has_breeze(1, 1))\n",
    "\n",
    "# Is there stench in cell (1, 1)?\n",
    "print(\"Is there stench in cell (1, 1)?\", has_stench(1, 1))\n",
    "\n",
    "# Is there gold in cell (4, 4)?\n",
    "print(\"Is there gold in cell (4, 4)?\", has_gold(4, 4))"
   ]
  },
  {
   "cell_type": "code",
   "execution_count": null,
   "metadata": {},
   "outputs": [],
   "source": []
  }
 ],
 "metadata": {
  "kernelspec": {
   "display_name": "base",
   "language": "python",
   "name": "python3"
  },
  "language_info": {
   "codemirror_mode": {
    "name": "ipython",
    "version": 3
   },
   "file_extension": ".py",
   "mimetype": "text/x-python",
   "name": "python",
   "nbconvert_exporter": "python",
   "pygments_lexer": "ipython3",
   "version": "3.12.2"
  },
  "orig_nbformat": 4
 },
 "nbformat": 4,
 "nbformat_minor": 2
}
