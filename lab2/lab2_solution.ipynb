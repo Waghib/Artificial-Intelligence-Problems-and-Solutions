{
 "cells": [
  {
   "cell_type": "markdown",
   "id": "a3f30ddf",
   "metadata": {},
   "source": [
    "# TASK 1:"
   ]
  },
  {
   "cell_type": "code",
   "execution_count": 1,
   "id": "51e4d3a9",
   "metadata": {},
   "outputs": [],
   "source": [
    "class AutoCleaner:\n",
    "\n",
    "    # initializing the values\n",
    "    def __init__(self, dimensions):\n",
    "        self.length, self.width, self.height = dimensions\n",
    "\n",
    "    # function to calculate area\n",
    "    def calculate_area(self):\n",
    "        return self.length * self.width\n",
    "\n",
    "    # function to calculate volume\n",
    "    def calculate_volume(self):\n",
    "        return self.length * self.width * self.height\n",
    "\n",
    "    # display the area and volume\n",
    "    def display(self):\n",
    "        print(f\"Area of the room: {self.calculate_area()}\")\n",
    "        print(f\"Volume of the room: {self.calculate_volume()}\")\n",
    "        print(\"Cleaning Starts...\")\n"
   ]
  },
  {
   "cell_type": "code",
   "execution_count": 2,
   "id": "1c22492c",
   "metadata": {},
   "outputs": [
    {
     "name": "stdout",
     "output_type": "stream",
     "text": [
      "Area of the room: 25.0\n",
      "Volume of the room: 250.0\n",
      "Cleaning Starts...\n"
     ]
    }
   ],
   "source": [
    "length = float(input(\"Enter the length of the room: \"))\n",
    "width = float(input(\"Enter the width of the room: \"))\n",
    "height = float(input(\"Enter the height of the room: \"))\n",
    "\n",
    "dimensions = (length, width, height)\n",
    "\n",
    "cleaner = AutoCleaner(dimensions)\n",
    "\n",
    "cleaner.display()"
   ]
  },
  {
   "cell_type": "markdown",
   "id": "989a6e69",
   "metadata": {},
   "source": [
    "# TASK 2:"
   ]
  },
  {
   "cell_type": "code",
   "execution_count": null,
   "id": "96d9784b",
   "metadata": {},
   "outputs": [],
   "source": [
    "class Fruit:\n",
    "    def __init__(self):\n",
    "        # Initialize sets for winter and summer season fruits\n",
    "        self.winter_fruits = set()\n",
    "        self.summer_fruits = set()\n",
    "\n",
    "    def add_fruit(self, season, fruit):\n",
    "        # Add a fruit to the specified season set\n",
    "        if season.lower() == 'winter':\n",
    "            self.winter_fruits.add(fruit)\n",
    "        elif season.lower() == 'summer':\n",
    "            self.summer_fruits.add(fruit)\n",
    "        else:\n",
    "            print(\"Invalid season. Use 'winter' or 'summer'.\")\n",
    "\n",
    "    def remove_fruit(self, season, fruit):\n",
    "        # Remove a fruit from given season\n",
    "        if season.lower() == 'winter':\n",
    "            self.winter_fruits.discard(fruit)\n",
    "        elif season.lower() == 'summer':\n",
    "            self.summer_fruits.discard(fruit)\n",
    "        else:\n",
    "            print(\"Invalid season. Use 'winter' or 'summer'.\")\n",
    "\n",
    "    def is_fruit_present(self, season, fruit):\n",
    "        # Check if a fruit is present in the specified season set\n",
    "        if season.lower() == 'winter':  # make it lower case if user input some mix string\n",
    "            return fruit in self.winter_fruits\n",
    "        elif season.lower() == 'summer':\n",
    "            return fruit in self.summer_fruits\n",
    "        else:\n",
    "            print(\"Invalid season. Use 'winter' or 'summer'.\")\n",
    "            return False\n",
    "\n",
    "    def display_sets(self):\n",
    "        # Display sets\n",
    "        print(\"Winter Fruits:\", self.winter_fruits)\n",
    "        print(\"Summer Fruits:\", self.summer_fruits)\n",
    "\n",
    "    def perform_set_operations(self):\n",
    "        # set operations\n",
    "        intersection_result = self.winter_fruits.intersection(self.summer_fruits)\n",
    "        union_result = self.winter_fruits.union(self.summer_fruits)\n",
    "        difference_result = self.winter_fruits.difference(self.summer_fruits)\n",
    "\n",
    "        print(\"Intersection of Winter and Summer Fruits:\", intersection_result)\n",
    "        print(\"Union of Winter and Summer Fruits:\", union_result)\n",
    "        print(\"Difference (Winter - Summer) Fruits:\", difference_result)\n",
    "\n",
    "\n"
   ]
  },
  {
   "cell_type": "code",
   "execution_count": 26,
   "id": "c2b053a6",
   "metadata": {},
   "outputs": [
    {
     "name": "stdout",
     "output_type": "stream",
     "text": [
      "Winter Fruits: {'orange'}\n",
      "Summer Fruits: {'banana'}\n",
      "Enter the season ('winter' or 'summer'): winter\n",
      "Enter the fruit to add: banana\n",
      "Winter Fruits: {'orange', 'banana'}\n",
      "Summer Fruits: {'banana'}\n",
      "Enter the season to check ('winter' or 'summer'): winter\n",
      "Enter the fruit to check: banana\n",
      "Fruit Present: True\n",
      "Enter the season to remove from ('winter' or 'summer'): wnter\n",
      "Enter the fruit to remove: banana\n",
      "Invalid season. Use 'winter' or 'summer'.\n",
      "Winter Fruits: {'orange', 'banana'}\n",
      "Summer Fruits: {'banana'}\n",
      "Intersection of Winter and Summer Fruits: {'banana'}\n",
      "Union of Winter and Summer Fruits: {'orange', 'banana'}\n",
      "Difference (Winter - Summer) Fruits: {'orange'}\n"
     ]
    }
   ],
   "source": [
    "fruit_instance = Fruit()\n",
    "\n",
    "# added some fruits\n",
    "fruit_instance.add_fruit(\"winter\", \"orange\")\n",
    "fruit_instance.add_fruit(\"summer\", \"banana\")\n",
    "fruit_instance.display_sets()\n",
    "\n",
    "# user input to add fruits\n",
    "season_input = input(\"Enter the season ('winter' or 'summer'): \")\n",
    "fruit_input = input(\"Enter the fruit to add: \")\n",
    "fruit_instance.add_fruit(season_input, fruit_input)\n",
    "\n",
    "# Display sets\n",
    "fruit_instance.display_sets()\n",
    "\n",
    "# user input to check if a fruit is present\n",
    "check_season_input = input(\"Enter the season to check ('winter' or 'summer'): \")\n",
    "check_fruit_input = input(\"Enter the fruit to check: \")\n",
    "print(f\"Fruit Present: {fruit_instance.is_fruit_present(check_season_input, check_fruit_input)}\")\n",
    "\n",
    "# user input to remove a fruit\n",
    "remove_season_input = input(\"Enter the season to remove from ('winter' or 'summer'): \")\n",
    "remove_fruit_input = input(\"Enter the fruit to remove: \")\n",
    "fruit_instance.remove_fruit(remove_season_input, remove_fruit_input)\n",
    "\n",
    "# Display sets after removal\n",
    "fruit_instance.display_sets()\n",
    "\n",
    "# set operations\n",
    "fruit_instance.perform_set_operations()"
   ]
  },
  {
   "cell_type": "markdown",
   "id": "22283ad2",
   "metadata": {},
   "source": [
    "# TASK 3:"
   ]
  },
  {
   "cell_type": "code",
   "execution_count": 3,
   "id": "2a63663a",
   "metadata": {},
   "outputs": [],
   "source": [
    "class MalariaDetectionSystem:\n",
    "    def __init__(self):\n",
    "        # Dictionary of symptoms and their weights\n",
    "        self.symptoms_weights = {\n",
    "            'fever': 4,\n",
    "            'chills': 3,\n",
    "            'sweating': 2,\n",
    "            'headache': 4,\n",
    "            'nausea': 3,\n",
    "            'muscle aches': 5,\n",
    "            'fatigue': 3,\n",
    "            'joint pain': 2\n",
    "        }\n",
    "\n",
    "    def get_user_input(self):\n",
    "        #input for symptom\n",
    "        user_symptoms = {}\n",
    "        for symptom, weight in self.symptoms_weights.items():\n",
    "            response = input(f\"Do you have {symptom}? (yes/no): \")\n",
    "            if response.lower() == 'yes':\n",
    "                user_symptoms[symptom] = 1\n",
    "            else:\n",
    "                user_symptoms[symptom] = 0\n",
    "        return user_symptoms\n",
    "\n",
    "    def calculate_total_score(self, user_symptoms):\n",
    "        total_score = 0\n",
    "        for symptom, weight in self.symptoms_weights.items():\n",
    "            total_score += user_symptoms[symptom] * weight\n",
    "        return total_score\n",
    "\n",
    "    def check_malaria_risk(self, total_score):\n",
    "        # Check if user has higher risk of Malaria\n",
    "        threshold = 15\n",
    "        if total_score > threshold:\n",
    "            print(\"\\nBased on your symptoms, there is a possibility that you may have Malaria.\")\n",
    "            print(\"It is important to consult with a healthcare professional for further guidance.\")\n",
    "        else:\n",
    "            print(\"\\nBased on your symptoms, it is less likely that you have Malaria.\")\n",
    "            print(\"However, if you have concerns, it is always a good idea to consult with a healthcare professional.\")\n",
    "\n",
    "    def run_detection_system(self):\n",
    "        # Run the Malaria Detection System\n",
    "        print(\"**Welcome to the Malaria Detection System!**\\nPlease answer to following questions.\\n\")\n",
    "        \n",
    "        #input for symptoms\n",
    "        user_symptoms = self.get_user_input()\n",
    "\n",
    "        #total score\n",
    "        total_score = self.calculate_total_score(user_symptoms)\n",
    "\n",
    "        #Check Malaria risk\n",
    "        self.check_malaria_risk(total_score)\n",
    "\n"
   ]
  },
  {
   "cell_type": "code",
   "execution_count": 4,
   "id": "0e485276",
   "metadata": {},
   "outputs": [
    {
     "name": "stdout",
     "output_type": "stream",
     "text": [
      "**Welcome to the Malaria Detection System!**\n",
      "Please answer to following questions.\n",
      "\n"
     ]
    },
    {
     "name": "stdout",
     "output_type": "stream",
     "text": [
      "Do you have fever? (yes/no):  yes\n",
      "Do you have chills? (yes/no):  yes\n",
      "Do you have sweating? (yes/no):  no\n",
      "Do you have headache? (yes/no):  yes\n",
      "Do you have nausea? (yes/no):  yes\n",
      "Do you have muscle aches? (yes/no):  no\n",
      "Do you have fatigue? (yes/no):  yes\n",
      "Do you have joint pain? (yes/no):  yes\n"
     ]
    },
    {
     "name": "stdout",
     "output_type": "stream",
     "text": [
      "\n",
      "Based on your symptoms, there is a possibility that you may have Malaria.\n",
      "It is important to consult with a healthcare professional for further guidance.\n"
     ]
    }
   ],
   "source": [
    "# Create an instance of the MalariaDetectionSystem class\n",
    "malaria_system = MalariaDetectionSystem()\n",
    "\n",
    "# Run the Malaria Detection System\n",
    "malaria_system.run_detection_system()"
   ]
  },
  {
   "cell_type": "markdown",
   "id": "ca498fa8-e886-48f7-9ca1-24d6c072b039",
   "metadata": {},
   "source": [
    "# TASK 4"
   ]
  },
  {
   "cell_type": "code",
   "execution_count": 22,
   "id": "76691d22-9562-4e1d-bd5e-6da7bbc65603",
   "metadata": {},
   "outputs": [],
   "source": [
    "import random\n",
    "from datetime import datetime, timedelta\n",
    "\n",
    "class CarReservationSystem:\n",
    "    def __init__(self):\n",
    "        self.users = {} # dictionary to store the user information\n",
    "        # dictionary to store the cars information\n",
    "        self.cars = {\n",
    "            'sports': {'name': 'Ferrari'},\n",
    "            'luxury': {'name': 'Mercedes-Benz S-Class'},\n",
    "            'electric': {'name': 'tesla model S'},\n",
    "            'micro': {'name': 'smart fortwo'}\n",
    "        }\n",
    "\n",
    "    \n",
    "    def add_user(self):\n",
    "        # function to add new user details\n",
    "        name = input(\"Enter your name: \")\n",
    "        cnic = input(\"Enter your CNIC: \")\n",
    "        phone = input(\"Enter your phone number: \")\n",
    "\n",
    "        return {'name': name, 'cnic': cnic, 'phone': phone}\n",
    "\n",
    "\n",
    "    def check_user(self, cnic):\n",
    "        # function to check if user already exist or not\n",
    "        return cnic in self.users\n",
    "\n",
    "    \n",
    "\n",
    "    def displayCarInfo(self, selectedCar):\n",
    "        carInfo = self.cars.get(selectedCar)\n",
    "        if carInfo: # checking if the car type exist, then display the car info else display a invalid message\n",
    "            carName = carInfo['name']\n",
    "            rentalTime = self.generate_random_time()\n",
    "\n",
    "            print(\"\\n**Congratulations on renting a car**\\n\")\n",
    "            print(f\"\\nCar type: {selectedCar}\")\n",
    "            print(f\"Car Name: {carName}\")\n",
    "            print(f\"Rental Time: {rentalTime}\")\n",
    "        else:\n",
    "            print(\"Invalid car type!\")\n",
    "\n",
    "\n",
    "    def generate_random_time(self):\n",
    "        # function to generate a random time\n",
    "        currentTime = datetime.now()\n",
    "        randomDays = random.randint(1, 10)\n",
    "        rentalTime = currentTime + timedelta(days=randomDays)\n",
    "        return rentalTime.strftime(\"%Y-%m-%d %H:%M:%S\") #specified a formate to display date and time\n",
    "    \n",
    "\n",
    "    def main_menu(self):\n",
    "        # made a simple interactive main menu for user\n",
    "        print(\"Welcome to the car Rental Reservation System!\")\n",
    "\n",
    "        cnic = input(\"Enter your cnic to check if you are existing user: \")\n",
    "        userExist = self.check_user(cnic)\n",
    "\n",
    "        if userExist:\n",
    "            print(f\"\\nHello {self.users[cnic]['name']}\")\n",
    "        else:\n",
    "            print(\"\\nPlease provide the following information: \")\n",
    "            userInfo = self.add_user()\n",
    "            self.users[cnic] = userInfo\n",
    "            print(\"New user added!\")\n",
    "\n",
    "        print(\"\\nCar types: \")\n",
    "        for car in self.cars:\n",
    "            print(f\"{car}\")\n",
    "\n",
    "        selectedCar = input(\"\\nEnter the car type you want to rent: \")\n",
    "        self.displayCarInfo(selectedCar)\n"
   ]
  },
  {
   "cell_type": "code",
   "execution_count": 24,
   "id": "be386f76-4580-434d-8cd3-f1ef3f51a5ed",
   "metadata": {},
   "outputs": [
    {
     "name": "stdout",
     "output_type": "stream",
     "text": [
      "Welcome to the car Rental Reservation System!\n"
     ]
    },
    {
     "name": "stdout",
     "output_type": "stream",
     "text": [
      "Enter your cnic to check if you are existing user:  3320199994444\n"
     ]
    },
    {
     "name": "stdout",
     "output_type": "stream",
     "text": [
      "\n",
      "Please provide the following information: \n"
     ]
    },
    {
     "name": "stdout",
     "output_type": "stream",
     "text": [
      "Enter your name:  waghib ahmad\n",
      "Enter your CNIC:  3320199994444\n",
      "Enter your phone number:  03133333322\n"
     ]
    },
    {
     "name": "stdout",
     "output_type": "stream",
     "text": [
      "New user added!\n",
      "\n",
      "Car types: \n",
      "sports\n",
      "luxury\n",
      "electric\n",
      "micro\n"
     ]
    },
    {
     "name": "stdout",
     "output_type": "stream",
     "text": [
      "\n",
      "Enter the car type you want to rent:  sports\n"
     ]
    },
    {
     "name": "stdout",
     "output_type": "stream",
     "text": [
      "\n",
      "**Congratulations on renting a car**\n",
      "\n",
      "\n",
      "Car type: sports\n",
      "Car Name: Ferrari\n",
      "Rental Time: 2024-02-11 21:29:28\n"
     ]
    }
   ],
   "source": [
    "carRental = CarReservationSystem()\n",
    "carRental.main_menu()"
   ]
  },
  {
   "cell_type": "code",
   "execution_count": 25,
   "id": "bfd51b44-34ee-43be-924a-6aa5a0f6c6d0",
   "metadata": {},
   "outputs": [
    {
     "name": "stdout",
     "output_type": "stream",
     "text": [
      "Welcome to the car Rental Reservation System!\n"
     ]
    },
    {
     "name": "stdout",
     "output_type": "stream",
     "text": [
      "Enter your cnic to check if you are existing user:  3320199994444\n"
     ]
    },
    {
     "name": "stdout",
     "output_type": "stream",
     "text": [
      "\n",
      "Hello waghib ahmad\n",
      "\n",
      "Car types: \n",
      "sports\n",
      "luxury\n",
      "electric\n",
      "micro\n"
     ]
    },
    {
     "name": "stdout",
     "output_type": "stream",
     "text": [
      "\n",
      "Enter the car type you want to rent:  luxury\n"
     ]
    },
    {
     "name": "stdout",
     "output_type": "stream",
     "text": [
      "\n",
      "**Congratulations on renting a car**\n",
      "\n",
      "\n",
      "Car type: luxury\n",
      "Car Name: Mercedes-Benz S-Class\n",
      "Rental Time: 2024-02-06 21:29:50\n"
     ]
    }
   ],
   "source": [
    "carRental.main_menu()"
   ]
  },
  {
   "cell_type": "code",
   "execution_count": null,
   "id": "1cca2fda-bc07-4452-b955-a737ddd1b5f1",
   "metadata": {},
   "outputs": [],
   "source": []
  }
 ],
 "metadata": {
  "kernelspec": {
   "display_name": "Python 3 (ipykernel)",
   "language": "python",
   "name": "python3"
  },
  "language_info": {
   "codemirror_mode": {
    "name": "ipython",
    "version": 3
   },
   "file_extension": ".py",
   "mimetype": "text/x-python",
   "name": "python",
   "nbconvert_exporter": "python",
   "pygments_lexer": "ipython3",
   "version": "3.9.13"
  }
 },
 "nbformat": 4,
 "nbformat_minor": 5
}
