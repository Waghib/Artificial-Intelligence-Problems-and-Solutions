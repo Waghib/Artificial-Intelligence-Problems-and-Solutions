{
 "cells": [
  {
   "cell_type": "markdown",
   "id": "27eb0c57",
   "metadata": {},
   "source": [
    "# TASK 1:"
   ]
  },
  {
   "cell_type": "markdown",
   "id": "1f81bdcd",
   "metadata": {},
   "source": [
    "### BFS"
   ]
  },
  {
   "cell_type": "code",
   "execution_count": 1,
   "id": "bd0b707a",
   "metadata": {},
   "outputs": [],
   "source": [
    "from collections import defaultdict"
   ]
  },
  {
   "cell_type": "code",
   "execution_count": 36,
   "id": "49fb71cc",
   "metadata": {},
   "outputs": [
    {
     "name": "stdout",
     "output_type": "stream",
     "text": [
      "Home Products Blogs About Us Contact Us Product 1 Product 2 Product 3 Blog Post 1 Blog Post 2 "
     ]
    }
   ],
   "source": [
    "class Graph:\n",
    "    \n",
    "    def __init__(self):\n",
    "        self.graph = defaultdict(list)\n",
    "        \n",
    "    \n",
    "    def addEdge(self,u,v):\n",
    "        self.graph[u].append(v)\n",
    "        self.graph[v].append(u)\n",
    "        \n",
    "        \n",
    "        \n",
    "    def BFS(self, s):\n",
    "        visited = {}\n",
    "        for i in self.graph:\n",
    "            visited[i] = False\n",
    "        \n",
    "        queue = []\n",
    "        queue.append(s)\n",
    "        visited[s] = True\n",
    "        \n",
    "        while queue:\n",
    "            s = queue.pop(0)\n",
    "            print (s, end = \" \")\n",
    "            \n",
    "            for i in self.graph[s]:\n",
    "                if visited[i] == False:\n",
    "                    queue.append(i)\n",
    "                    visited[i] = True\n",
    "                    \n",
    "\n",
    "g = Graph()\n",
    "g.addEdge(\"Home\", \"Products\")\n",
    "g.addEdge(\"Home\", \"Blogs\")\n",
    "g.addEdge(\"Home\", \"About Us\")\n",
    "g.addEdge(\"Home\", \"Contact Us\")\n",
    "g.addEdge(\"Products\", \"Product 1\")\n",
    "g.addEdge(\"Products\", \"Product 2\")\n",
    "g.addEdge(\"Products\", \"Product 3\")\n",
    "g.addEdge(\"Blogs\", \"Blog Post 1\")\n",
    "g.addEdge(\"Blogs\", \"Blog Post 2\")\n",
    "\n",
    "g.BFS(\"Home\")\n",
    "\n"
   ]
  },
  {
   "cell_type": "markdown",
   "id": "c7418b6d",
   "metadata": {},
   "source": [
    "### DFS"
   ]
  },
  {
   "cell_type": "code",
   "execution_count": 35,
   "id": "1c49c32b",
   "metadata": {},
   "outputs": [
    {
     "name": "stdout",
     "output_type": "stream",
     "text": [
      "Home Products Product 1 Product 2 Product 3 Blogs Blog Post 1 Blog Post 2 About Us Contact Us "
     ]
    }
   ],
   "source": [
    "from collections import defaultdict\n",
    "\n",
    "class Graph:\n",
    "    def __init__(self):\n",
    "        self.graph = defaultdict(list)\n",
    "    \n",
    "    def addEdge(self,u,v):\n",
    "        self.graph[u].append(v)\n",
    "        self.graph[v].append(u)\n",
    "        \n",
    "    def DFS(self, s):\n",
    "        visited = {}\n",
    "        for i in self.graph:\n",
    "            visited[i] = False\n",
    "            \n",
    "        stack = []\n",
    "        stack.append(s)\n",
    "        \n",
    "        while stack:\n",
    "            s = stack.pop()\n",
    "            if not visited[s]:\n",
    "                print(s, end=\" \")\n",
    "                visited[s] = True\n",
    "            for i in reversed(self.graph[s]):\n",
    "                if not visited[i]:\n",
    "                    stack.append(i)\n",
    "\n",
    "\n",
    "g = Graph()\n",
    "g.addEdge(\"Home\", \"Products\")\n",
    "g.addEdge(\"Home\", \"Blogs\")\n",
    "g.addEdge(\"Home\", \"About Us\")\n",
    "g.addEdge(\"Home\", \"Contact Us\")\n",
    "g.addEdge(\"Products\", \"Product 1\")\n",
    "g.addEdge(\"Products\", \"Product 2\")\n",
    "g.addEdge(\"Products\", \"Product 3\")\n",
    "g.addEdge(\"Blogs\", \"Blog Post 1\")\n",
    "g.addEdge(\"Blogs\", \"Blog Post 2\")\n",
    "\n",
    "g.DFS(\"Home\")\n"
   ]
  },
  {
   "cell_type": "markdown",
   "id": "3a7314bb",
   "metadata": {},
   "source": [
    "# TASK 2:"
   ]
  },
  {
   "cell_type": "code",
   "execution_count": 29,
   "id": "e623fc71",
   "metadata": {},
   "outputs": [
    {
     "name": "stdout",
     "output_type": "stream",
     "text": [
      "Path from Ali to Qasim: Ali -> Hamza -> Akram -> Qasim\n"
     ]
    }
   ],
   "source": [
    "from collections import defaultdict, deque\n",
    "\n",
    "class SocialMediaGraph:\n",
    "    def __init__(self):\n",
    "        self.graph = defaultdict(list)\n",
    "    \n",
    "    def add_friendship(self, user1, user2):\n",
    "        self.graph[user1].append(user2)\n",
    "        self.graph[user2].append(user1)\n",
    "    \n",
    "    def find_shortest_path(self, start, target):\n",
    "        if start not in self.graph or target not in self.graph:\n",
    "            return None\n",
    "        \n",
    "        visited = set()\n",
    "        queue = deque([(start, [start])])\n",
    "        \n",
    "        while queue:\n",
    "            user, path = queue.popleft()\n",
    "            visited.add(user)\n",
    "            \n",
    "            if user == target:\n",
    "                return path\n",
    "            \n",
    "            for friend in self.graph[user]:\n",
    "                if friend not in visited:\n",
    "                    queue.append((friend, path + [friend]))\n",
    "        \n",
    "        return None\n",
    "\n",
    "    \n",
    "graph = SocialMediaGraph()\n",
    "graph.add_friendship(\"Ali\", \"Hamza\")\n",
    "graph.add_friendship(\"Hamza\", \"Hammad\")\n",
    "graph.add_friendship(\"Hamza\", \"Akram\")\n",
    "graph.add_friendship(\"Hamza\", \"Fahad\")\n",
    "graph.add_friendship(\"Hammad\", \"Bilal\")\n",
    "graph.add_friendship(\"Fahad\", \"Shoaib\")\n",
    "graph.add_friendship(\"Bilal\", \"Akram\")\n",
    "graph.add_friendship(\"Akram\", \"Qasim\")\n",
    "graph.add_friendship(\"Akram\", \"Shoaib\")\n",
    "\n",
    "\n",
    "start = \"Ali\"\n",
    "target = \"Qasim\"\n",
    "path = graph.find_shortest_path(target, target)\n",
    "\n",
    "if path:\n",
    "    print(f\"Path from {start} to {target}: {' -> '.join(path)}\")\n",
    "else:\n",
    "    print(f\"No path found from {start} to {target}\")\n"
   ]
  },
  {
   "cell_type": "markdown",
   "id": "75074598",
   "metadata": {},
   "source": [
    "# TASK 3:"
   ]
  },
  {
   "cell_type": "code",
   "execution_count": 56,
   "id": "4f697626",
   "metadata": {},
   "outputs": [
    {
     "name": "stdout",
     "output_type": "stream",
     "text": [
      "Path: 1 -> 2 -> 7 -> 6 -> 11 -> 16 -> 17 -> 22 -> 23 -> 18 -> 19 -> 24 -> 25\n"
     ]
    }
   ],
   "source": [
    "from collections import defaultdict\n",
    "\n",
    "class Graph:\n",
    "    def __init__(self):\n",
    "        self.graph = defaultdict(list)\n",
    "    \n",
    "    def addEdge(self,u,v):\n",
    "        self.graph[u].append(v)\n",
    "        self.graph[v].append(u)\n",
    "        \n",
    "        \n",
    "    def DFS(self, start, end):\n",
    "        visited = {}\n",
    "        for i in self.graph:\n",
    "            visited[i] = False\n",
    "            \n",
    "        stack = [(start, [start])]\n",
    "    \n",
    "        while stack:\n",
    "            current, path = stack.pop()\n",
    "            if current == end:\n",
    "                return path\n",
    "            if current in self.graph and not visited[current]:\n",
    "                visited[current] = True\n",
    "                for neighbor in reversed(self.graph[current]):\n",
    "                    if not visited[neighbor]:\n",
    "                        stack.append((neighbor, path + [neighbor]))\n",
    "        return None\n",
    "\n",
    "\n",
    "g = Graph()\n",
    "g.addEdge(1, 2)\n",
    "g.addEdge(2, 3)\n",
    "g.addEdge(2, 7)\n",
    "g.addEdge(3, 4)\n",
    "g.addEdge(3, 8)\n",
    "g.addEdge(4, 5)\n",
    "g.addEdge(5, 10)\n",
    "g.addEdge(7, 6)\n",
    "g.addEdge(7, 12)\n",
    "g.addEdge(6, 11)\n",
    "g.addEdge(6, 7)\n",
    "g.addEdge(11, 12)\n",
    "g.addEdge(11, 16)\n",
    "g.addEdge(16, 17)\n",
    "g.addEdge(17, 22)\n",
    "g.addEdge(22, 23)\n",
    "g.addEdge(23, 18)\n",
    "g.addEdge(18, 19)\n",
    "g.addEdge(19, 24)\n",
    "g.addEdge(24, 25)\n",
    "g.addEdge(19, 14)\n",
    "g.addEdge(14, 9)\n",
    "g.addEdge(15, 15)\n",
    "g.addEdge(20, 20)\n",
    "\n",
    "\n",
    "start = 1\n",
    "end = 25\n",
    "\n",
    "path = g.DFS(start, end)\n",
    "\n",
    "if path:\n",
    "    print(\"Path:\", \" -> \".join(map(str, path)))\n",
    "else:\n",
    "    print(\"path not found from\", start, \"to\", end)\n"
   ]
  },
  {
   "cell_type": "code",
   "execution_count": null,
   "id": "b926885b",
   "metadata": {},
   "outputs": [],
   "source": []
  }
 ],
 "metadata": {
  "kernelspec": {
   "display_name": "Python 3 (ipykernel)",
   "language": "python",
   "name": "python3"
  },
  "language_info": {
   "codemirror_mode": {
    "name": "ipython",
    "version": 3
   },
   "file_extension": ".py",
   "mimetype": "text/x-python",
   "name": "python",
   "nbconvert_exporter": "python",
   "pygments_lexer": "ipython3",
   "version": "3.11.4"
  }
 },
 "nbformat": 4,
 "nbformat_minor": 5
}
