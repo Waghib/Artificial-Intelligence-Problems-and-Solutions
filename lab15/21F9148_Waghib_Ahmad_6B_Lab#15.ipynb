{
 "cells": [
  {
   "cell_type": "markdown",
   "metadata": {},
   "source": [
    "# TASK: 1"
   ]
  },
  {
   "cell_type": "code",
   "execution_count": 1,
   "metadata": {},
   "outputs": [],
   "source": [
    "import numpy as np"
   ]
  },
  {
   "cell_type": "code",
   "execution_count": 2,
   "metadata": {},
   "outputs": [],
   "source": [
    "class Perceptron():\n",
    "    def __init__(self, no_of_inputs, threshold=100, learning_rate=0.01):\n",
    "        self.threshold = threshold\n",
    "        self.learning_rate = learning_rate\n",
    "        self.weights = np.zeros(no_of_inputs + 1)\n",
    "        \n",
    "    def train(self, training_inputs, labels):\n",
    "        for _ in range(self.threshold):\n",
    "            for inputs, label in zip(training_inputs, labels):\n",
    "                prediction = self.predict(inputs)\n",
    "                self.weights[1:] += self.learning_rate * (label - prediction) * inputs\n",
    "                self.weights[0] += self.learning_rate * (label - prediction)\n",
    "\n",
    "    def predict(self, inputs):\n",
    "        summation = np.dot(inputs, self.weights[1:]) + self.weights[0]\n",
    "        if summation > 0:\n",
    "            activation = 1\n",
    "        else:\n",
    "            activation = 0\n",
    "\n",
    "        return activation\n"
   ]
  },
  {
   "cell_type": "code",
   "execution_count": 3,
   "metadata": {},
   "outputs": [
    {
     "name": "stdout",
     "output_type": "stream",
     "text": [
      "1\n",
      "1\n"
     ]
    }
   ],
   "source": [
    "# Dataset - mimic the behavior of a logical AND.\n",
    "training_inputs = []\n",
    "training_inputs.append(np.array([0, 0]))\n",
    "training_inputs.append(np.array([0, 1]))\n",
    "training_inputs.append(np.array([1, 0]))\n",
    "training_inputs.append(np.array([1, 1]))\n",
    "\n",
    "# Output labels of logical OR\n",
    "labels = np.array([0, 1, 1, 1])\n",
    "\n",
    "# Training\n",
    "perceptron = Perceptron(2)\n",
    "perceptron.train(training_inputs, labels)\n",
    "\n",
    "# Prediction\n",
    "inputs = np.array([1, 1])\n",
    "print(perceptron.predict(inputs))  # => 1\n",
    "\n",
    "inputs = np.array([0, 1])\n",
    "print(perceptron.predict(inputs))  # => ?"
   ]
  },
  {
   "cell_type": "markdown",
   "metadata": {},
   "source": [
    "# TASK: 2"
   ]
  },
  {
   "cell_type": "code",
   "execution_count": 9,
   "metadata": {},
   "outputs": [
    {
     "name": "stdout",
     "output_type": "stream",
     "text": [
      "Predictions for XOR:\n",
      "Input: [0 0], Predicted Output: 0\n",
      "Input: [0 1], Predicted Output: 1\n",
      "Input: [1 0], Predicted Output: 1\n",
      "Input: [1 1], Predicted Output: 0\n"
     ]
    }
   ],
   "source": [
    "import numpy as np\n",
    "\n",
    "class MLP:\n",
    "    def __init__(self, input_size, hidden_units, learning_rate=0.1, epochs=10000):\n",
    "        self.input_size = input_size\n",
    "        self.hidden_units = hidden_units\n",
    "        self.learning_rate = learning_rate\n",
    "        self.epochs = epochs\n",
    "\n",
    "        # Initialize weights and biases for the hidden layer and output layer\n",
    "        self.weights_hidden = np.random.randn(self.input_size, self.hidden_units)\n",
    "        self.bias_hidden = np.random.randn(self.hidden_units)\n",
    "        self.weights_output = np.random.randn(self.hidden_units)\n",
    "        self.bias_output = np.random.randn()\n",
    "\n",
    "    def sigmoid(self, x):\n",
    "        return 1 / (1 + np.exp(-x))\n",
    "\n",
    "    def sigmoid_derivative(self, x):\n",
    "        return x * (1 - x)\n",
    "\n",
    "    def forward_propagation(self, inputs):\n",
    "        # Hidden layer calculation\n",
    "        hidden_sum = np.dot(inputs, self.weights_hidden) + self.bias_hidden\n",
    "        hidden_output = self.sigmoid(hidden_sum)\n",
    "        \n",
    "        # Output layer calculation\n",
    "        output_sum = np.dot(hidden_output, self.weights_output) + self.bias_output\n",
    "        output = self.sigmoid(output_sum)\n",
    "        \n",
    "        return hidden_output, output\n",
    "\n",
    "    def backpropagation(self, inputs, hidden_output, output, target):\n",
    "        # Calculate output layer error and gradient\n",
    "        output_error = target - output\n",
    "        output_gradient = output_error * self.sigmoid_derivative(output)\n",
    "        \n",
    "        # Calculate hidden layer error and gradient\n",
    "        hidden_error = np.dot(output_gradient, self.weights_output.T)\n",
    "        hidden_gradient = hidden_error * self.sigmoid_derivative(hidden_output)\n",
    "        \n",
    "        # Update weights and biases\n",
    "        self.weights_output += self.learning_rate * np.dot(hidden_output.T, output_gradient)\n",
    "        self.bias_output += self.learning_rate * np.sum(output_gradient)\n",
    "        self.weights_hidden += self.learning_rate * np.dot(inputs.T, hidden_gradient)\n",
    "        self.bias_hidden += self.learning_rate * np.sum(hidden_gradient)\n",
    "\n",
    "    def train(self, inputs, targets):\n",
    "        for epoch in range(self.epochs):\n",
    "            for i in range(len(inputs)):\n",
    "                input_data = inputs[i]\n",
    "                target = targets[i]\n",
    "\n",
    "                # Perform forward propagation\n",
    "                hidden_output, output = self.forward_propagation(input_data)\n",
    "\n",
    "                # Perform backpropagation\n",
    "                self.backpropagation(input_data, hidden_output, output, target)\n",
    "\n",
    "    def predict(self, inputs):\n",
    "        _, output = self.forward_propagation(inputs)\n",
    "        return np.round(output)  # Round to 0 or 1 for binary prediction\n",
    "\n",
    "# XOR Dataset\n",
    "inputs = np.array([[0, 0],\n",
    "                   [0, 1],\n",
    "                   [1, 0],\n",
    "                   [1, 1]])\n",
    "\n",
    "targets = np.array([0, 1, 1, 0])  # XOR output\n",
    "\n",
    "# Create and train the MLP\n",
    "mlp = MLP(input_size=2, hidden_units=2, learning_rate=0.1, epochs=10000)\n",
    "mlp.train(inputs, targets)\n",
    "\n",
    "# Test\n",
    "print(\"Predictions for XOR:\")\n",
    "for input_data in inputs:\n",
    "    prediction = mlp.predict(input_data)\n",
    "    print(f\"Input: {input_data}, Predicted Output: {int(prediction)}\")\n"
   ]
  },
  {
   "cell_type": "markdown",
   "metadata": {},
   "source": [
    "# TASK: 3"
   ]
  },
  {
   "cell_type": "code",
   "execution_count": 7,
   "metadata": {},
   "outputs": [
    {
     "name": "stdout",
     "output_type": "stream",
     "text": [
      "Model accuracy: 0.9666666666666667\n"
     ]
    },
    {
     "data": {
      "image/png": "[encoded data removed]",
      "text/plain": [
       "<Figure size 1000x500 with 10 Axes>"
      ]
     },
     "metadata": {},
     "output_type": "display_data"
    }
   ],
   "source": [
    "import numpy as np\n",
    "from sklearn.datasets import load_digits\n",
    "from sklearn.model_selection import train_test_split\n",
    "from sklearn.neural_network import MLPClassifier\n",
    "from sklearn.metrics import accuracy_score\n",
    "import matplotlib.pyplot as plt\n",
    "\n",
    "# Load dataset\n",
    "mnist = load_digits()\n",
    "\n",
    "# Prepare the data\n",
    "X = mnist.images.reshape((len(mnist.images), -1))  # flatten each image\n",
    "y = mnist.target\n",
    "\n",
    "# Split the data into training and testing sets\n",
    "X_train, X_test, y_train, y_test = train_test_split(X, y, test_size=0.2, random_state=42)\n",
    "\n",
    "# Define the model\n",
    "model = MLPClassifier(hidden_layer_sizes=(64,), max_iter=1000)\n",
    "\n",
    "# Train the model\n",
    "model.fit(X_train, y_train)\n",
    "\n",
    "# Make predictions\n",
    "y_pred = model.predict(X_test)\n",
    "\n",
    "# Calculate accuracy\n",
    "accuracy = accuracy_score(y_test, y_pred)\n",
    "print(f\"Model accuracy: {accuracy}\")\n",
    "\n",
    "# Display some example predictions\n",
    "fig, axes = plt.subplots(2, 5, figsize=(10, 5))\n",
    "axes = axes.ravel()\n",
    "\n",
    "for i in np.arange(0, 10):\n",
    "    axes[i].imshow(X_test[i].reshape(8, 8), cmap='gray')\n",
    "    axes[i].set_title(f\"True: {y_test[i]}\\nPredict: {y_pred[i]}\", fontsize = 12)\n",
    "    plt.subplots_adjust(hspace=0.8)\n",
    "    axes[i].axis('off')\n",
    "\n",
    "plt.show()\n"
   ]
  },
  {
   "cell_type": "code",
   "execution_count": null,
   "metadata": {},
   "outputs": [],
   "source": []
  }
 ],
 "metadata": {
  "kernelspec": {
   "display_name": "Python 3 (ipykernel)",
   "language": "python",
   "name": "python3"
  },
  "language_info": {
   "codemirror_mode": {
    "name": "ipython",
    "version": 3
   },
   "file_extension": ".py",
   "mimetype": "text/x-python",
   "name": "python",
   "nbconvert_exporter": "python",
   "pygments_lexer": "ipython3",
   "version": "3.9.13"
  }
 },
 "nbformat": 4,
 "nbformat_minor": 2
}
